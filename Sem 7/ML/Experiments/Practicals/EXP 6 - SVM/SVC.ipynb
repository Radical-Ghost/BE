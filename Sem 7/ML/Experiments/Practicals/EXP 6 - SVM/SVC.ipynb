{
 "cells": [
  {
   "cell_type": "code",
   "execution_count": 29,
   "id": "0b62c339",
   "metadata": {},
   "outputs": [],
   "source": [
    "import numpy as np\n",
    "import polars as pl\n",
    "import matplotlib.pyplot as plt\n",
    "import seaborn as sns\n",
    "from sklearn.model_selection import train_test_split\n",
    "from sklearn.preprocessing import StandardScaler\n",
    "from sklearn.svm import LinearSVC, SVC\n",
    "from sklearn.metrics import classification_report, confusion_matrix, accuracy_score, r2_score, root_mean_squared_error, recall_score, precision_score,mean_absolute_error"
   ]
  },
  {
   "cell_type": "code",
   "execution_count": 30,
   "id": "65578f71",
   "metadata": {},
   "outputs": [],
   "source": [
    "columns = [\n",
    "    \"Mean of the integrated profile\",\n",
    "    \"Standard deviation of the integrated profile\",\n",
    "    \"Excess kurtosis of the integrated profile\",\n",
    "    \"Skewness of the integrated profile\",\n",
    "    \"Mean of the DM-SNR curve\",\n",
    "    \"Standard deviation of the DM-SNR curve\",\n",
    "    \"Excess kurtosis of the DM-SNR curve\",\n",
    "    \"Skewness of the DM-SNR curve\",\n",
    "    \"Class\"\n",
    "]\n",
    "\n",
    "df = pl.read_csv(\"HTRU_2.csv\", has_header=False, new_columns=columns)"
   ]
  },
  {
   "cell_type": "code",
   "execution_count": 31,
   "id": "75105983",
   "metadata": {},
   "outputs": [
    {
     "data": {
      "text/plain": [
       "(17898, 9)"
      ]
     },
     "execution_count": 31,
     "metadata": {},
     "output_type": "execute_result"
    }
   ],
   "source": [
    "df.shape"
   ]
  },
  {
   "cell_type": "code",
   "execution_count": 32,
   "id": "14bffd71",
   "metadata": {},
   "outputs": [
    {
     "name": "stdout",
     "output_type": "stream",
     "text": [
      "Column                                             Type            Nulls\n",
      "---------------------------------------------------------------------------\n",
      "Mean of the integrated profile                     Float64         0\n",
      "Standard deviation of the integrated profile       Float64         0\n",
      "Excess kurtosis of the integrated profile          Float64         0\n",
      "Skewness of the integrated profile                 Float64         0\n",
      "Mean of the DM-SNR curve                           Float64         0\n",
      "Standard deviation of the DM-SNR curve             Float64         0\n",
      "Excess kurtosis of the DM-SNR curve                Float64         0\n",
      "Skewness of the DM-SNR curve                       Float64         0\n",
      "Class                                              Int64           0\n"
     ]
    }
   ],
   "source": [
    "print(f\"{'Column':50} {'Type':15} {'Nulls'}\")\n",
    "print(\"-\"*75)\n",
    "for name, dtype in df.schema.items():\n",
    "    nulls = df.select(pl.col(name).null_count()).item()\n",
    "    print(f\"{name:50} {str(dtype):15} {nulls}\")"
   ]
  },
  {
   "cell_type": "code",
   "execution_count": 33,
   "id": "4671f9b8",
   "metadata": {},
   "outputs": [
    {
     "data": {
      "text/html": [
       "<div><style>\n",
       ".dataframe > thead > tr,\n",
       ".dataframe > tbody > tr {\n",
       "  text-align: right;\n",
       "  white-space: pre-wrap;\n",
       "}\n",
       "</style>\n",
       "<small>shape: (5, 9)</small><table border=\"1\" class=\"dataframe\"><thead><tr><th>Mean of the integrated profile</th><th>Standard deviation of the integrated profile</th><th>Excess kurtosis of the integrated profile</th><th>Skewness of the integrated profile</th><th>Mean of the DM-SNR curve</th><th>Standard deviation of the DM-SNR curve</th><th>Excess kurtosis of the DM-SNR curve</th><th>Skewness of the DM-SNR curve</th><th>Class</th></tr><tr><td>f64</td><td>f64</td><td>f64</td><td>f64</td><td>f64</td><td>f64</td><td>f64</td><td>f64</td><td>i64</td></tr></thead><tbody><tr><td>140.5625</td><td>55.683782</td><td>-0.234571</td><td>-0.699648</td><td>3.199833</td><td>19.110426</td><td>7.975532</td><td>74.242225</td><td>0</td></tr><tr><td>102.507812</td><td>58.88243</td><td>0.465318</td><td>-0.515088</td><td>1.677258</td><td>14.860146</td><td>10.576487</td><td>127.39358</td><td>0</td></tr><tr><td>103.015625</td><td>39.341649</td><td>0.323328</td><td>1.051164</td><td>3.121237</td><td>21.744669</td><td>7.735822</td><td>63.171909</td><td>0</td></tr><tr><td>136.75</td><td>57.178449</td><td>-0.068415</td><td>-0.636238</td><td>3.642977</td><td>20.95928</td><td>6.896499</td><td>53.593661</td><td>0</td></tr><tr><td>88.726562</td><td>40.672225</td><td>0.600866</td><td>1.123492</td><td>1.17893</td><td>11.46872</td><td>14.269573</td><td>252.567306</td><td>0</td></tr></tbody></table></div>"
      ],
      "text/plain": [
       "shape: (5, 9)\n",
       "┌────────────┬────────────┬────────────┬───────────┬───┬───────────┬───────────┬───────────┬───────┐\n",
       "│ Mean of    ┆ Standard   ┆ Excess     ┆ Skewness  ┆ … ┆ Standard  ┆ Excess    ┆ Skewness  ┆ Class │\n",
       "│ the        ┆ deviation  ┆ kurtosis   ┆ of the    ┆   ┆ deviation ┆ kurtosis  ┆ of the    ┆ ---   │\n",
       "│ integrated ┆ of the     ┆ of the     ┆ integrate ┆   ┆ of the    ┆ of the    ┆ DM-SNR    ┆ i64   │\n",
       "│ profile    ┆ inte…      ┆ integra…   ┆ d pro…    ┆   ┆ DM-S…     ┆ DM-SNR …  ┆ curve     ┆       │\n",
       "│ ---        ┆ ---        ┆ ---        ┆ ---       ┆   ┆ ---       ┆ ---       ┆ ---       ┆       │\n",
       "│ f64        ┆ f64        ┆ f64        ┆ f64       ┆   ┆ f64       ┆ f64       ┆ f64       ┆       │\n",
       "╞════════════╪════════════╪════════════╪═══════════╪═══╪═══════════╪═══════════╪═══════════╪═══════╡\n",
       "│ 140.5625   ┆ 55.683782  ┆ -0.234571  ┆ -0.699648 ┆ … ┆ 19.110426 ┆ 7.975532  ┆ 74.242225 ┆ 0     │\n",
       "│ 102.507812 ┆ 58.88243   ┆ 0.465318   ┆ -0.515088 ┆ … ┆ 14.860146 ┆ 10.576487 ┆ 127.39358 ┆ 0     │\n",
       "│ 103.015625 ┆ 39.341649  ┆ 0.323328   ┆ 1.051164  ┆ … ┆ 21.744669 ┆ 7.735822  ┆ 63.171909 ┆ 0     │\n",
       "│ 136.75     ┆ 57.178449  ┆ -0.068415  ┆ -0.636238 ┆ … ┆ 20.95928  ┆ 6.896499  ┆ 53.593661 ┆ 0     │\n",
       "│ 88.726562  ┆ 40.672225  ┆ 0.600866   ┆ 1.123492  ┆ … ┆ 11.46872  ┆ 14.269573 ┆ 252.56730 ┆ 0     │\n",
       "│            ┆            ┆            ┆           ┆   ┆           ┆           ┆ 6         ┆       │\n",
       "└────────────┴────────────┴────────────┴───────────┴───┴───────────┴───────────┴───────────┴───────┘"
      ]
     },
     "execution_count": 33,
     "metadata": {},
     "output_type": "execute_result"
    }
   ],
   "source": [
    "df.head()"
   ]
  },
  {
   "cell_type": "code",
   "execution_count": 40,
   "id": "58398cc2",
   "metadata": {},
   "outputs": [
    {
     "data": {
      "text/html": [
       "<div><style>\n",
       ".dataframe > thead > tr,\n",
       ".dataframe > tbody > tr {\n",
       "  text-align: right;\n",
       "  white-space: pre-wrap;\n",
       "}\n",
       "</style>\n",
       "<small>shape: (2, 2)</small><table border=\"1\" class=\"dataframe\"><thead><tr><th>Class</th><th>len</th></tr><tr><td>i64</td><td>u32</td></tr></thead><tbody><tr><td>1</td><td>1639</td></tr><tr><td>0</td><td>16259</td></tr></tbody></table></div>"
      ],
      "text/plain": [
       "shape: (2, 2)\n",
       "┌───────┬───────┐\n",
       "│ Class ┆ len   │\n",
       "│ ---   ┆ ---   │\n",
       "│ i64   ┆ u32   │\n",
       "╞═══════╪═══════╡\n",
       "│ 1     ┆ 1639  │\n",
       "│ 0     ┆ 16259 │\n",
       "└───────┴───────┘"
      ]
     },
     "execution_count": 40,
     "metadata": {},
     "output_type": "execute_result"
    }
   ],
   "source": [
    "df.group_by(\"Class\").len()"
   ]
  },
  {
   "cell_type": "code",
   "execution_count": null,
   "id": "15b70ae4",
   "metadata": {},
   "outputs": [],
   "source": [
    "Scaler = StandardScaler()\n",
    "Scaler.fit()"
   ]
  }
 ],
 "metadata": {
  "kernelspec": {
   "display_name": "neurokit",
   "language": "python",
   "name": "python3"
  },
  "language_info": {
   "codemirror_mode": {
    "name": "ipython",
    "version": 3
   },
   "file_extension": ".py",
   "mimetype": "text/x-python",
   "name": "python",
   "nbconvert_exporter": "python",
   "pygments_lexer": "ipython3",
   "version": "3.10.13"
  }
 },
 "nbformat": 4,
 "nbformat_minor": 5
}
